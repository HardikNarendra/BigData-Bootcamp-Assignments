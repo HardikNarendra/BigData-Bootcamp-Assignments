{
  "nbformat": 4,
  "nbformat_minor": 0,
  "metadata": {
    "colab": {
      "provenance": []
    },
    "kernelspec": {
      "name": "python3",
      "display_name": "Python 3"
    },
    "language_info": {
      "name": "python"
    }
  },
  "cells": [
    {
      "cell_type": "code",
      "execution_count": 4,
      "metadata": {
        "colab": {
          "base_uri": "https://localhost:8080/"
        },
        "id": "sTOFTGXrgXBq",
        "outputId": "1316546e-22ec-41b3-cf4e-33a5e2447e93"
      },
      "outputs": [
        {
          "output_type": "stream",
          "name": "stdout",
          "text": [
            "Requirement already satisfied: findspark in /usr/local/lib/python3.10/dist-packages (2.0.1)\n"
          ]
        }
      ],
      "source": [
        "!pip install findspark\n",
        "import findspark\n",
        "#findspark.find()"
      ]
    },
    {
      "cell_type": "code",
      "source": [
        "# Create SparkSession and sparkcontext\n",
        "from pyspark.sql import SparkSession\n",
        "spark = SparkSession.builder\\\n",
        "                    .master(\"local\")\\\n",
        "                    .appName('WordCount')\\\n",
        "                    .getOrCreate()\n",
        "sc=spark.sparkContext"
      ],
      "metadata": {
        "id": "-Lr-nx5_gcGX"
      },
      "execution_count": 7,
      "outputs": []
    },
    {
      "cell_type": "code",
      "source": [
        "# Read the input file and Calculating words count\n",
        "text_file = sc.textFile(\"demo.txt\")\n",
        "counts = text_file.flatMap(lambda line: line.split(\" \")) \\\n",
        "                            .map(lambda word: (word, 1)) \\\n",
        "                           .reduceByKey(lambda x, y: x + y)"
      ],
      "metadata": {
        "id": "udJnRvCtgpxt"
      },
      "execution_count": 8,
      "outputs": []
    },
    {
      "cell_type": "code",
      "source": [
        "# Printing each word with its respective count\n",
        "output = counts.collect()\n",
        "for (word, count) in output:\n",
        "    print(\"%s: %i\" % (word, count))"
      ],
      "metadata": {
        "colab": {
          "base_uri": "https://localhost:8080/"
        },
        "id": "N7zvnrJMg9Ka",
        "outputId": "b6145858-ed60-4e04-f843-7fb8a2636036"
      },
      "execution_count": 9,
      "outputs": [
        {
          "output_type": "stream",
          "name": "stdout",
          "text": [
            "hello: 2\n",
            "hi: 1\n",
            "bye: 4\n",
            "ok: 2\n",
            "nice: 1\n",
            "tata: 1\n"
          ]
        }
      ]
    }
  ]
}